{
 "cells": [
  {
   "cell_type": "code",
   "execution_count": 1,
   "metadata": {},
   "outputs": [],
   "source": [
    "import random\n",
    "import numpy as np\n",
    "from synthetic import *"
   ]
  },
  {
   "cell_type": "code",
   "execution_count": 2,
   "metadata": {},
   "outputs": [],
   "source": [
    "ref_dna, het_snps, hom_snps = synthDNA(100000, 1e-3, 5e-4)\n",
    "reads = gen_reads(ref_dna, het_snps, hom_snps, 100000, (10,100))\n",
    "data, labels = gen_data(ref_dna, reads, het_snps, hom_snps)\n",
    "\n",
    "for i in range(4):\n",
    "    ref_dna, het_snps, hom_snps = synthDNA(100000, 1e-3, 5e-4)\n",
    "    n = len(ref_dna)\n",
    "    reads = gen_reads(ref_dna, het_snps, hom_snps, 100000, (10,100))\n",
    "    data_ind, labels_ind = gen_data(ref_dna, reads, het_snps, hom_snps)\n",
    "    data = np.concatenate([data,data_ind],axis=0)\n",
    "    labels = np.concatenate([labels, labels_ind])\n",
    "X_train, y_train = data, labels\n",
    "\n",
    "ref_dna, het_snps, hom_snps = synthDNA(100000, 1e-3, 5e-4)\n",
    "reads = gen_reads(ref_dna, het_snps, hom_snps, 100000, (10,100))\n",
    "X_test, y_test = gen_data(ref_dna, reads, het_snps, hom_snps)"
   ]
  },
  {
   "cell_type": "code",
   "execution_count": 3,
   "metadata": {},
   "outputs": [
    {
     "name": "stderr",
     "output_type": "stream",
     "text": [
      "/anaconda2/lib/python2.7/site-packages/sklearn/ensemble/weight_boosting.py:29: DeprecationWarning: numpy.core.umath_tests is an internal NumPy module and should not be imported. It will be removed in a future NumPy release.\n",
      "  from numpy.core.umath_tests import inner1d\n"
     ]
    },
    {
     "name": "stdout",
     "output_type": "stream",
     "text": [
      "             precision    recall  f1-score   support\n",
      "\n",
      "        0.0       1.00      1.00      1.00     99831\n",
      "        1.0       0.89      0.35      0.50       115\n",
      "        2.0       1.00      0.98      0.99        54\n",
      "\n",
      "avg / total       1.00      1.00      1.00    100000\n",
      "\n"
     ]
    }
   ],
   "source": [
    "from sklearn.model_selection import train_test_split\n",
    "from sklearn.ensemble import RandomForestClassifier\n",
    "from sklearn.metrics import classification_report\n",
    "#X_train, X_test, y_train, y_test = train_test_split(data, labels, test_size=0.33, random_state=42)\n",
    "clf = RandomForestClassifier(n_estimators=100, max_depth=3, random_state=0)\n",
    "clf.fit(X_train,y_train)\n",
    "y_pred = clf.predict(X_test)\n",
    "print(classification_report(y_test, y_pred))"
   ]
  },
  {
   "cell_type": "code",
   "execution_count": 4,
   "metadata": {},
   "outputs": [
    {
     "name": "stdout",
     "output_type": "stream",
     "text": [
      "             precision    recall  f1-score   support\n",
      "\n",
      "        0.0       1.00      1.00      1.00    499216\n",
      "        1.0       0.93      0.30      0.46       515\n",
      "        2.0       1.00      0.98      0.99       269\n",
      "\n",
      "avg / total       1.00      1.00      1.00    500000\n",
      "\n"
     ]
    }
   ],
   "source": [
    "y_pred = clf.predict(X_train)\n",
    "print(classification_report(y_train, y_pred))"
   ]
  },
  {
   "cell_type": "code",
   "execution_count": null,
   "metadata": {},
   "outputs": [],
   "source": []
  }
 ],
 "metadata": {
  "kernelspec": {
   "display_name": "Python 3",
   "language": "python",
   "name": "python3"
  },
  "language_info": {
   "codemirror_mode": {
    "name": "ipython",
    "version": 2
   },
   "file_extension": ".py",
   "mimetype": "text/x-python",
   "name": "python",
   "nbconvert_exporter": "python",
   "pygments_lexer": "ipython2",
   "version": "2.7.15"
  }
 },
 "nbformat": 4,
 "nbformat_minor": 2
}
